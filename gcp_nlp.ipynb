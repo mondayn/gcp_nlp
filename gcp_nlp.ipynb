{
 "cells": [
  {
   "cell_type": "code",
   "execution_count": 4,
   "metadata": {},
   "outputs": [],
   "source": [
    "import spacy\n",
    "\n",
    "from gcp_fx import (\n",
    "    PROJECT_ID, \n",
    "    CREDENTIALS, \n",
    "    print_meta_data,\n",
    "    query_bq,\n",
    "    # delete_bq_table,\n",
    ")\n",
    "\n",
    "import pandas as pd"
   ]
  },
  {
   "cell_type": "code",
   "execution_count": 2,
   "metadata": {},
   "outputs": [],
   "source": [
    "NER = spacy.load(\"en_core_web_sm\")\n",
    "def get_entity(s):\n",
    "    ''' for a string return an entity type\n",
    "\n",
    "        PERSON: Refers to individuals, including fictional and real people.\n",
    "        NORP: Represents nationalities, religious or political groups.\n",
    "        FAC: Denotes buildings, airports, highways, bridges, etc.\n",
    "        ORG: Refers to organizations such as companies, institutions, agencies, etc.\n",
    "        GPE: Represents countries, cities, states, and other geopolitical entities.\n",
    "        LOC: Denotes non-GPE locations such as mountains, bodies of water, etc.\n",
    "        PRODUCT: Represents objects, vehicles, food items, etc.\n",
    "        EVENT: Denotes named events like hurricanes, battles, wars, etc.\n",
    "        WORK_OF_ART: Represents books, paintings, songs, etc.\n",
    "        LAW: Denotes named laws and regulations.\n",
    "        LANGUAGE: Represents named languages.\n",
    "        DATE: Represents dates in various formats.\n",
    "        TIME: Denotes times in various formats.\n",
    "        PERCENT: Represents percentage values.\n",
    "        MONEY: Denotes monetary values.\n",
    "        QUANTITY: Represents measurements, quantities, or counts.\n",
    "        ORDINAL: Denotes first, second, third, etc.\n",
    "        CARDINAL: Represents numerical values, counting numbers.\n",
    "    '''\n",
    "    if NER(s).ents:\n",
    "        return NER(s).ents[0].label_\n",
    "    else:\n",
    "        return ''"
   ]
  },
  {
   "cell_type": "code",
   "execution_count": 5,
   "metadata": {},
   "outputs": [
    {
     "name": "stdout",
     "output_type": "stream",
     "text": [
      "shape = (1, 2)\n",
      "columns =  ['f0_', 'f1_']\n"
     ]
    },
    {
     "data": {
      "text/html": [
       "<div>\n",
       "<style scoped>\n",
       "    .dataframe tbody tr th:only-of-type {\n",
       "        vertical-align: middle;\n",
       "    }\n",
       "\n",
       "    .dataframe tbody tr th {\n",
       "        vertical-align: top;\n",
       "    }\n",
       "\n",
       "    .dataframe thead th {\n",
       "        text-align: right;\n",
       "    }\n",
       "</style>\n",
       "<table border=\"1\" class=\"dataframe\">\n",
       "  <thead>\n",
       "    <tr style=\"text-align: right;\">\n",
       "      <th></th>\n",
       "      <th>f0_</th>\n",
       "      <th>f1_</th>\n",
       "    </tr>\n",
       "  </thead>\n",
       "  <tbody>\n",
       "    <tr>\n",
       "      <th>0</th>\n",
       "      <td>2023-05-26</td>\n",
       "      <td>2023-06-29</td>\n",
       "    </tr>\n",
       "  </tbody>\n",
       "</table>\n",
       "</div>"
      ],
      "text/plain": [
       "          f0_         f1_\n",
       "0  2023-05-26  2023-06-29"
      ]
     },
     "execution_count": 5,
     "metadata": {},
     "output_type": "execute_result"
    }
   ],
   "source": [
    "sql = '''select min(refresh_date),max(refresh_date) FROM `bigquery-public-data.google_trends.top_terms`'''\n",
    "query_bq(sql)"
   ]
  },
  {
   "cell_type": "code",
   "execution_count": 6,
   "metadata": {},
   "outputs": [
    {
     "name": "stdout",
     "output_type": "stream",
     "text": [
      "shape = (33, 2)\n",
      "columns =  ['Day', 'Top_Term']\n"
     ]
    }
   ],
   "source": [
    "sql = '''-- query top search term, table only has most recent month\n",
    "SELECT\n",
    "   refresh_date AS Day,\n",
    "   term AS Top_Term\n",
    "FROM `bigquery-public-data.google_trends.top_terms`\n",
    "WHERE\n",
    "   rank = 1\n",
    "GROUP BY Day, Top_Term, rank\n",
    "ORDER BY Day DESC\n",
    "'''\n",
    "# query top search terms, save to df\n",
    "df = (\n",
    "    query_bq(sql)\n",
    "    .assign(ent=lambda x: [get_entity(s) for s in x.Top_Term])\n",
    ")"
   ]
  },
  {
   "cell_type": "code",
   "execution_count": 7,
   "metadata": {},
   "outputs": [
    {
     "name": "stdout",
     "output_type": "stream",
     "text": [
      "PERSON    12\n",
      "ORG        9\n",
      "GPE        4\n",
      "           4\n",
      "DATE       3\n",
      "EVENT      1\n",
      "Name: ent, dtype: int64\n"
     ]
    },
    {
     "data": {
      "text/plain": [
       "<Axes: >"
      ]
     },
     "execution_count": 7,
     "metadata": {},
     "output_type": "execute_result"
    },
    {
     "data": {
      "image/png": "[encoded data removed]",
      "text/plain": [
       "<Figure size 640x480 with 1 Axes>"
      ]
     },
     "metadata": {},
     "output_type": "display_data"
    }
   ],
   "source": [
    "print(df.ent.value_counts())\n",
    "df.ent.hist()"
   ]
  },
  {
   "attachments": {},
   "cell_type": "markdown",
   "metadata": {},
   "source": [
    "#### conclusion: \n",
    "we usually google people, orgs, then dates & events"
   ]
  },
  {
   "attachments": {},
   "cell_type": "markdown",
   "metadata": {},
   "source": []
  }
 ],
 "metadata": {
  "kernelspec": {
   "display_name": "Python 3",
   "language": "python",
   "name": "python3"
  },
  "language_info": {
   "codemirror_mode": {
    "name": "ipython",
    "version": 3
   },
   "file_extension": ".py",
   "mimetype": "text/x-python",
   "name": "python",
   "nbconvert_exporter": "python",
   "pygments_lexer": "ipython3",
   "version": "3.10.10"
  },
  "orig_nbformat": 4
 },
 "nbformat": 4,
 "nbformat_minor": 2
}
