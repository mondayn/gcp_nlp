{
 "cells": [
  {
   "cell_type": "code",
   "execution_count": 2,
   "metadata": {},
   "outputs": [],
   "source": [
    "import pandas_gbq\n",
    "import pydata_google_auth\n",
    "import pandas as pd\n",
    "import spacy"
   ]
  },
  {
   "cell_type": "code",
   "execution_count": 10,
   "metadata": {},
   "outputs": [],
   "source": [
    "NER = spacy.load(\"en_core_web_sm\")\n",
    "def get_entity(s):\n",
    "    ''' for a string return an entity type\n",
    "\n",
    "        PERSON: Refers to individuals, including fictional and real people.\n",
    "        NORP: Represents nationalities, religious or political groups.\n",
    "        FAC: Denotes buildings, airports, highways, bridges, etc.\n",
    "        ORG: Refers to organizations such as companies, institutions, agencies, etc.\n",
    "        GPE: Represents countries, cities, states, and other geopolitical entities.\n",
    "        LOC: Denotes non-GPE locations such as mountains, bodies of water, etc.\n",
    "        PRODUCT: Represents objects, vehicles, food items, etc.\n",
    "        EVENT: Denotes named events like hurricanes, battles, wars, etc.\n",
    "        WORK_OF_ART: Represents books, paintings, songs, etc.\n",
    "        LAW: Denotes named laws and regulations.\n",
    "        LANGUAGE: Represents named languages.\n",
    "        DATE: Represents dates in various formats.\n",
    "        TIME: Denotes times in various formats.\n",
    "        PERCENT: Represents percentage values.\n",
    "        MONEY: Denotes monetary values.\n",
    "        QUANTITY: Represents measurements, quantities, or counts.\n",
    "        ORDINAL: Denotes first, second, third, etc.\n",
    "        CARDINAL: Represents numerical values, counting numbers.\n",
    "    '''\n",
    "    if NER(s).ents:\n",
    "        return NER(s).ents[0].label_\n",
    "    else:\n",
    "        return ''"
   ]
  },
  {
   "cell_type": "code",
   "execution_count": 29,
   "metadata": {},
   "outputs": [],
   "source": [
    "sql = '''-- query top search term, table only has most recent month\n",
    "SELECT\n",
    "   refresh_date AS Day,\n",
    "   term AS Top_Term\n",
    "FROM `bigquery-public-data.google_trends.top_terms`\n",
    "WHERE\n",
    "   rank = 1\n",
    "GROUP BY Day, Top_Term, rank\n",
    "ORDER BY Day DESC\n",
    "'''"
   ]
  },
  {
   "cell_type": "code",
   "execution_count": 25,
   "metadata": {},
   "outputs": [],
   "source": [
    "def print_meta_data(_df):\n",
    "    print('shape =',_df.shape)\n",
    "    print('columns = ',list(_df.columns))\n",
    "    return _df\n",
    "\n",
    "def query(sql):\n",
    "    credentials = pydata_google_auth.get_user_credentials('https://www.googleapis.com/auth/cloud-platform')\n",
    "    \n",
    "    gbq_params = {\n",
    "        'query':sql\n",
    "        ,'project_id':'313291762163'\n",
    "        ,'credentials': credentials\n",
    "    }\n",
    "    \n",
    "    return (\n",
    "        pd.read_gbq(**gbq_params)\n",
    "        .pipe(print_meta_data)\n",
    "    )"
   ]
  },
  {
   "cell_type": "code",
   "execution_count": 27,
   "metadata": {},
   "outputs": [
    {
     "name": "stdout",
     "output_type": "stream",
     "text": [
      "shape = (1, 2)\n",
      "columns =  ['f0_', 'f1_']\n"
     ]
    },
    {
     "data": {
      "text/html": [
       "<div>\n",
       "<style scoped>\n",
       "    .dataframe tbody tr th:only-of-type {\n",
       "        vertical-align: middle;\n",
       "    }\n",
       "\n",
       "    .dataframe tbody tr th {\n",
       "        vertical-align: top;\n",
       "    }\n",
       "\n",
       "    .dataframe thead th {\n",
       "        text-align: right;\n",
       "    }\n",
       "</style>\n",
       "<table border=\"1\" class=\"dataframe\">\n",
       "  <thead>\n",
       "    <tr style=\"text-align: right;\">\n",
       "      <th></th>\n",
       "      <th>f0_</th>\n",
       "      <th>f1_</th>\n",
       "    </tr>\n",
       "  </thead>\n",
       "  <tbody>\n",
       "    <tr>\n",
       "      <th>0</th>\n",
       "      <td>2023-05-26</td>\n",
       "      <td>2023-06-27</td>\n",
       "    </tr>\n",
       "  </tbody>\n",
       "</table>\n",
       "</div>"
      ],
      "text/plain": [
       "          f0_         f1_\n",
       "0  2023-05-26  2023-06-27"
      ]
     },
     "execution_count": 27,
     "metadata": {},
     "output_type": "execute_result"
    }
   ],
   "source": [
    "# sql = '''select min(refresh_date),max(refresh_date) FROM `bigquery-public-data.google_trends.top_terms`'''\n",
    "# query(sql)"
   ]
  },
  {
   "cell_type": "code",
   "execution_count": 30,
   "metadata": {},
   "outputs": [
    {
     "name": "stdout",
     "output_type": "stream",
     "text": [
      "shape = (33, 2)\n",
      "columns =  ['Day', 'Top_Term']\n"
     ]
    }
   ],
   "source": [
    "# query top search terms, save to df\n",
    "df = (\n",
    "    query(sql)\n",
    "    .assign(ent=lambda x: [get_entity(s) for s in x.Top_Term])\n",
    ")"
   ]
  },
  {
   "cell_type": "code",
   "execution_count": 32,
   "metadata": {},
   "outputs": [
    {
     "name": "stdout",
     "output_type": "stream",
     "text": [
      "PERSON    10\n",
      "ORG        9\n",
      "           5\n",
      "GPE        4\n",
      "DATE       4\n",
      "EVENT      1\n",
      "Name: ent, dtype: int64\n"
     ]
    },
    {
     "data": {
      "text/plain": [
       "<Axes: >"
      ]
     },
     "execution_count": 32,
     "metadata": {},
     "output_type": "execute_result"
    },
    {
     "data": {
      "image/png": "[encoded data removed]",
      "text/plain": [
       "<Figure size 640x480 with 1 Axes>"
      ]
     },
     "metadata": {},
     "output_type": "display_data"
    }
   ],
   "source": [
    "print(df.ent.value_counts())\n",
    "df.ent.hist()"
   ]
  },
  {
   "attachments": {},
   "cell_type": "markdown",
   "metadata": {},
   "source": [
    "#### conclusion: \n",
    "we usually google people, then places, then dates & events"
   ]
  }
 ],
 "metadata": {
  "kernelspec": {
   "display_name": "Python 3",
   "language": "python",
   "name": "python3"
  },
  "language_info": {
   "codemirror_mode": {
    "name": "ipython",
    "version": 3
   },
   "file_extension": ".py",
   "mimetype": "text/x-python",
   "name": "python",
   "nbconvert_exporter": "python",
   "pygments_lexer": "ipython3",
   "version": "3.10.10"
  },
  "orig_nbformat": 4
 },
 "nbformat": 4,
 "nbformat_minor": 2
}
